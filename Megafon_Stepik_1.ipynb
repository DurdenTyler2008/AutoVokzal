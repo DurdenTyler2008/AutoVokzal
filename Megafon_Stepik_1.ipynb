{
  "nbformat": 4,
  "nbformat_minor": 0,
  "metadata": {
    "colab": {
      "name": "Megafon_Stepik_1.ipynb",
      "provenance": [],
      "collapsed_sections": [],
      "authorship_tag": "ABX9TyPDPN1loQkvVAuNcVqjN2AR",
      "include_colab_link": true
    },
    "kernelspec": {
      "name": "python3",
      "display_name": "Python 3"
    },
    "language_info": {
      "name": "python"
    }
  },
  "cells": [
    {
      "cell_type": "markdown",
      "metadata": {
        "id": "view-in-github",
        "colab_type": "text"
      },
      "source": [
        "<a href=\"https://colab.research.google.com/github/DurdenTyler2008/AutoVokzal/blob/master/Megafon_Stepik_1.ipynb\" target=\"_parent\"><img src=\"https://colab.research.google.com/assets/colab-badge.svg\" alt=\"Open In Colab\"/></a>"
      ]
    },
    {
      "cell_type": "markdown",
      "source": [
        "Задача – проверить, только ли уникальные значения находятся в массиве. Предлагается следующее решение:"
      ],
      "metadata": {
        "id": "e7uNS7bHnyXP"
      }
    },
    {
      "cell_type": "code",
      "source": [
        "'''\n",
        "from random import random\n",
        "\n",
        "def is_list_elements_are_unique(arr):\n",
        "    N = len(arr)\n",
        "    for i in range(N-1):\n",
        "        for j in range(i+1, N):\n",
        "            if arr[i] == arr[j]:\n",
        "                return False\n",
        "    return True\n",
        "\n",
        "#Usage\n",
        "N = 1000 #for example \n",
        "arr = []\n",
        "for i in range(N):\n",
        "    arr.append(int(random() * 50))\n",
        "is_list_elements_are_unique(arr)\n",
        "'''"
      ],
      "metadata": {
        "id": "SBuKHiKOnwMt"
      },
      "execution_count": null,
      "outputs": []
    },
    {
      "cell_type": "markdown",
      "source": [
        "Эффективна ли реализация функции is_list_elements_are_unique? Поясните свой ответ. Как реализовать функцию более эффективным способом?"
      ],
      "metadata": {
        "id": "qAS1d8OdoG2r"
      }
    },
    {
      "cell_type": "code",
      "source": [
        "import numpy as np\n",
        "from random import random"
      ],
      "metadata": {
        "id": "wYoqdxSsnvAD"
      },
      "execution_count": 24,
      "outputs": []
    },
    {
      "cell_type": "code",
      "source": [
        "N = 1000 \n",
        "arr = []\n",
        "for i in range(N):\n",
        "    arr.append(int(random() * 50))\n"
      ],
      "metadata": {
        "id": "7C3FCy6qgxCS"
      },
      "execution_count": 25,
      "outputs": []
    },
    {
      "cell_type": "code",
      "source": [
        "# через множества\n",
        "set_res = set(arr) # меняю структуру данных на множество\n",
        "arr_unic = (list(set_res)) \n",
        "print(arr_unic) # вернет уникальные элементы."
      ],
      "metadata": {
        "colab": {
          "base_uri": "https://localhost:8080/"
        },
        "id": "EvyITbi7kxa5",
        "outputId": "f2cd7557-e015-4671-e609-77cb36af6490"
      },
      "execution_count": 26,
      "outputs": [
        {
          "output_type": "stream",
          "name": "stdout",
          "text": [
            "[0, 1, 2, 3, 4, 5, 6, 7, 8, 9, 10, 11, 12, 13, 14, 15, 16, 17, 18, 19, 20, 21, 22, 23, 24, 25, 26, 27, 28, 29, 30, 31, 32, 33, 34, 35, 36, 37, 38, 39, 40, 41, 42, 43, 44, 45, 46, 47, 48, 49]\n"
          ]
        }
      ]
    },
    {
      "cell_type": "code",
      "source": [
        "#через numpy\n",
        "arr_numpy = np.array(arr) # перевел в numpy\n",
        "arr_unic_numpy = np.unique(arr_numpy) # использую метод возвращающий уникальные элементы\n",
        "print(arr_unic_numpy)"
      ],
      "metadata": {
        "colab": {
          "base_uri": "https://localhost:8080/"
        },
        "id": "iq1HCmUVmcKX",
        "outputId": "0f8356fc-be83-47fd-8470-874f71fef325"
      },
      "execution_count": 27,
      "outputs": [
        {
          "output_type": "stream",
          "name": "stdout",
          "text": [
            "[ 0  1  2  3  4  5  6  7  8  9 10 11 12 13 14 15 16 17 18 19 20 21 22 23\n",
            " 24 25 26 27 28 29 30 31 32 33 34 35 36 37 38 39 40 41 42 43 44 45 46 47\n",
            " 48 49]\n"
          ]
        }
      ]
    },
    {
      "cell_type": "code",
      "source": [
        "# через функцию:\n",
        "def s_list_elements_are_unique(arr):\n",
        "    \n",
        "    arr_unic = []\n",
        "    for i in arr:\n",
        "        if i not in arr_unic:\n",
        "            arr_unic.append(i)\n",
        "                           \n",
        "    #return arr_unic\n",
        "    print(arr_unic)\n",
        "\n",
        "s_list_elements_are_unique(arr)"
      ],
      "metadata": {
        "colab": {
          "base_uri": "https://localhost:8080/"
        },
        "id": "5MEg9brNj0Xq",
        "outputId": "9845ef55-a0bc-4221-c947-57394c217df7"
      },
      "execution_count": 28,
      "outputs": [
        {
          "output_type": "stream",
          "name": "stdout",
          "text": [
            "[13, 37, 47, 30, 42, 46, 44, 23, 19, 10, 31, 49, 34, 9, 8, 39, 41, 40, 7, 14, 45, 4, 1, 15, 27, 26, 17, 5, 22, 35, 28, 3, 43, 29, 20, 2, 6, 0, 25, 11, 38, 32, 12, 36, 48, 16, 18, 33, 24, 21]\n"
          ]
        }
      ]
    }
  ]
}